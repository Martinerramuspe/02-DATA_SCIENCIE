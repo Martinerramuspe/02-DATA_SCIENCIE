{
  "nbformat": 4,
  "nbformat_minor": 0,
  "metadata": {
    "colab": {
      "provenance": [],
      "authorship_tag": "ABX9TyMNNX7eZaiWAfkwPnZp/df0",
      "include_colab_link": true
    },
    "kernelspec": {
      "name": "python3",
      "display_name": "Python 3"
    },
    "language_info": {
      "name": "python"
    }
  },
  "cells": [
    {
      "cell_type": "markdown",
      "metadata": {
        "id": "view-in-github",
        "colab_type": "text"
      },
      "source": [
        "<a href=\"https://colab.research.google.com/github/Martinerramuspe/02-DATA_SCIENCIE/blob/main/00-CODER_HOUSE%20/05-ENTREGABLE/ENTREGABLE_05.ipynb\" target=\"_parent\"><img src=\"https://colab.research.google.com/assets/colab-badge.svg\" alt=\"Open In Colab\"/></a>"
      ]
    },
    {
      "cell_type": "markdown",
      "source": [
        "# TODAS LAS VARIABLES\n",
        "* Tomamos todas las variables del set de datos para la creacion del modelo.\n",
        "* Demostrado en la entrega anterior, resultado tener mejor respuesta, el modelo de clasificacion knn. La variable objetivo, fue modificada a una binaria, tomando un criterio.\n"
      ],
      "metadata": {
        "id": "yYaSu7RxnIs7"
      }
    },
    {
      "cell_type": "code",
      "execution_count": null,
      "metadata": {
        "id": "A5vUf8vx-w1A"
      },
      "outputs": [],
      "source": [
        "import pandas as pd\n",
        "import matplotlib.pyplot as plt\n",
        "import seaborn as sns\n",
        "import numpy as np"
      ]
    },
    {
      "cell_type": "code",
      "source": [
        "# LA FUENTE DE ESTE DATAFRAME ES KAGLE, SE CARGO EL .CSV EN REPOSITORIO DE GITHUB.\n",
        "url = \"https://github.com/Martinerramuspe/02-DATA_SCIENCIE/blob/main/00-CODER_HOUSE/00-DATASETS/student-mat.csv?raw=true\"\n",
        "df = pd.read_csv(url)"
      ],
      "metadata": {
        "id": "toRgemHYHlzr"
      },
      "execution_count": null,
      "outputs": []
    },
    {
      "cell_type": "code",
      "source": [
        "# Creamos una columna con el promedio de las notas, reduciendo dimensionaldiad.\n",
        "df['G'] = df[['G1', 'G2', 'G3']].mean(axis=1)\n",
        "df['G'] = df['G'].round(2)"
      ],
      "metadata": {
        "id": "OVKJwY1yq_50"
      },
      "execution_count": null,
      "outputs": []
    },
    {
      "cell_type": "code",
      "source": [
        "df= df.drop([\"G1\",\"G2\",\"G3\"],axis=1)"
      ],
      "metadata": {
        "id": "NsWX0o8vrBuO"
      },
      "execution_count": null,
      "outputs": []
    },
    {
      "cell_type": "code",
      "source": [
        "# Tranformacion binaria: Aquellos que sacan mas de 12 aprueban.\n",
        "def transformar_G(valor):\n",
        "    if valor is not None:\n",
        "        if valor >= 0 and valor < 12:\n",
        "            return 0\n",
        "        elif valor >= 12 and valor < 21:\n",
        "            return 1\n",
        "    return None\n",
        "\n",
        "df['G_binario'] = df['G'].apply(transformar_G)"
      ],
      "metadata": {
        "id": "rw-iYVcWHnF7"
      },
      "execution_count": null,
      "outputs": []
    },
    {
      "cell_type": "code",
      "source": [
        "df= df.drop([\"G\"],axis=1)"
      ],
      "metadata": {
        "id": "W3FHMNYZITmV"
      },
      "execution_count": null,
      "outputs": []
    },
    {
      "cell_type": "code",
      "source": [
        "# Seleccionamos todas las variables.\n",
        "X= df[['school', 'sex', 'age', 'address', 'famsize', 'Pstatus', 'Medu', 'Fedu',\n",
        "       'Mjob', 'Fjob', 'reason', 'guardian', 'traveltime', 'studytime',\n",
        "       'failures', 'schoolsup', 'famsup', 'paid', 'activities', 'nursery',\n",
        "       'higher', 'internet', 'romantic', 'famrel', 'freetime', 'goout', 'Dalc',\n",
        "       'Walc', 'health', 'absences']]\n",
        "y= df['G_binario']"
      ],
      "metadata": {
        "id": "cjrHiXmcMkiQ"
      },
      "execution_count": null,
      "outputs": []
    },
    {
      "cell_type": "code",
      "source": [
        "# Transformacion binaria.\n",
        "import numpy as np\n",
        "X=pd.get_dummies(X,drop_first=True)"
      ],
      "metadata": {
        "id": "0USccCknMkj1"
      },
      "execution_count": null,
      "outputs": []
    },
    {
      "cell_type": "code",
      "source": [
        "from sklearn.model_selection import train_test_split"
      ],
      "metadata": {
        "id": "5oag9k7aNttL"
      },
      "execution_count": null,
      "outputs": []
    },
    {
      "cell_type": "code",
      "source": [
        "X_train, X_test, y_train, y_test = train_test_split(X, y)"
      ],
      "metadata": {
        "id": "F7tLV3bmN-pS"
      },
      "execution_count": null,
      "outputs": []
    },
    {
      "cell_type": "code",
      "source": [
        "from sklearn.model_selection import cross_val_score\n",
        "from sklearn.neighbors import KNeighborsClassifier\n",
        "from sklearn.metrics import accuracy_score"
      ],
      "metadata": {
        "id": "Q1bEctmkzjMB"
      },
      "execution_count": null,
      "outputs": []
    },
    {
      "cell_type": "code",
      "source": [
        "modelo = KNeighborsClassifier() # Dejamos el k=5, preestablecido por el metodo.\n",
        "modelo.fit(X_train,y_train)\n",
        "y_pred=modelo.predict(X_train)\n",
        "accuracy_score(y_train, y_pred)"
      ],
      "metadata": {
        "colab": {
          "base_uri": "https://localhost:8080/"
        },
        "id": "sfvn8am3N5qM",
        "outputId": "2c49356a-68ac-4464-940a-c0f818c59141"
      },
      "execution_count": null,
      "outputs": [
        {
          "output_type": "execute_result",
          "data": {
            "text/plain": [
              "0.7601351351351351"
            ]
          },
          "metadata": {},
          "execution_count": 12
        }
      ]
    },
    {
      "cell_type": "code",
      "source": [
        "m1=KNeighborsClassifier()"
      ],
      "metadata": {
        "id": "6NKXvyRAzjSx"
      },
      "execution_count": null,
      "outputs": []
    },
    {
      "cell_type": "code",
      "source": [
        "cross_val_score(m1,X_train,y_train,cv=5).mean()"
      ],
      "metadata": {
        "colab": {
          "base_uri": "https://localhost:8080/"
        },
        "id": "dy37i3PNzjyb",
        "outputId": "0fa3c8ea-f148-4648-b27e-aaa2760758fd"
      },
      "execution_count": null,
      "outputs": [
        {
          "output_type": "execute_result",
          "data": {
            "text/plain": [
              "0.5978531073446327"
            ]
          },
          "metadata": {},
          "execution_count": 14
        }
      ]
    },
    {
      "cell_type": "code",
      "source": [
        "y_pred1=modelo.predict(X_test)\n",
        "accuracy_score(y_test, y_pred1)"
      ],
      "metadata": {
        "colab": {
          "base_uri": "https://localhost:8080/"
        },
        "id": "QXcYZl5UN4ei",
        "outputId": "386c084f-1a25-4115-f977-677096326819"
      },
      "execution_count": null,
      "outputs": [
        {
          "output_type": "execute_result",
          "data": {
            "text/plain": [
              "0.6565656565656566"
            ]
          },
          "metadata": {},
          "execution_count": 15
        }
      ]
    },
    {
      "cell_type": "markdown",
      "source": [
        "# 6 VARIABLES\n",
        "* Seleccionamos 6 variables, entre las 21 del set total, que mejor resultado tenga, usando SFS. Para la creacion del modelo"
      ],
      "metadata": {
        "id": "Zf-eJ_egnPqO"
      }
    },
    {
      "cell_type": "code",
      "source": [
        "from mlxtend.feature_selection import SequentialFeatureSelector as SFS\n",
        "sfs = SFS(KNeighborsClassifier(),k_features=6,forward=False) # de atras para adelante fordward=false"
      ],
      "metadata": {
        "id": "BnPb4Py9xbYL"
      },
      "execution_count": null,
      "outputs": []
    },
    {
      "cell_type": "code",
      "source": [
        "# 54264 combinaciones posibles.\n",
        "sfs.fit(X_train, y_train)"
      ],
      "metadata": {
        "colab": {
          "base_uri": "https://localhost:8080/",
          "height": 119
        },
        "id": "Y-Byiz4w6Mue",
        "outputId": "506c4cfd-7c16-4b81-92e8-e7867243cf87"
      },
      "execution_count": null,
      "outputs": [
        {
          "output_type": "execute_result",
          "data": {
            "text/plain": [
              "SequentialFeatureSelector(estimator=KNeighborsClassifier(), forward=False,\n",
              "                          k_features=(6, 6), scoring='accuracy')"
            ],
            "text/html": [
              "<style>#sk-container-id-1 {color: black;background-color: white;}#sk-container-id-1 pre{padding: 0;}#sk-container-id-1 div.sk-toggleable {background-color: white;}#sk-container-id-1 label.sk-toggleable__label {cursor: pointer;display: block;width: 100%;margin-bottom: 0;padding: 0.3em;box-sizing: border-box;text-align: center;}#sk-container-id-1 label.sk-toggleable__label-arrow:before {content: \"▸\";float: left;margin-right: 0.25em;color: #696969;}#sk-container-id-1 label.sk-toggleable__label-arrow:hover:before {color: black;}#sk-container-id-1 div.sk-estimator:hover label.sk-toggleable__label-arrow:before {color: black;}#sk-container-id-1 div.sk-toggleable__content {max-height: 0;max-width: 0;overflow: hidden;text-align: left;background-color: #f0f8ff;}#sk-container-id-1 div.sk-toggleable__content pre {margin: 0.2em;color: black;border-radius: 0.25em;background-color: #f0f8ff;}#sk-container-id-1 input.sk-toggleable__control:checked~div.sk-toggleable__content {max-height: 200px;max-width: 100%;overflow: auto;}#sk-container-id-1 input.sk-toggleable__control:checked~label.sk-toggleable__label-arrow:before {content: \"▾\";}#sk-container-id-1 div.sk-estimator input.sk-toggleable__control:checked~label.sk-toggleable__label {background-color: #d4ebff;}#sk-container-id-1 div.sk-label input.sk-toggleable__control:checked~label.sk-toggleable__label {background-color: #d4ebff;}#sk-container-id-1 input.sk-hidden--visually {border: 0;clip: rect(1px 1px 1px 1px);clip: rect(1px, 1px, 1px, 1px);height: 1px;margin: -1px;overflow: hidden;padding: 0;position: absolute;width: 1px;}#sk-container-id-1 div.sk-estimator {font-family: monospace;background-color: #f0f8ff;border: 1px dotted black;border-radius: 0.25em;box-sizing: border-box;margin-bottom: 0.5em;}#sk-container-id-1 div.sk-estimator:hover {background-color: #d4ebff;}#sk-container-id-1 div.sk-parallel-item::after {content: \"\";width: 100%;border-bottom: 1px solid gray;flex-grow: 1;}#sk-container-id-1 div.sk-label:hover label.sk-toggleable__label {background-color: #d4ebff;}#sk-container-id-1 div.sk-serial::before {content: \"\";position: absolute;border-left: 1px solid gray;box-sizing: border-box;top: 0;bottom: 0;left: 50%;z-index: 0;}#sk-container-id-1 div.sk-serial {display: flex;flex-direction: column;align-items: center;background-color: white;padding-right: 0.2em;padding-left: 0.2em;position: relative;}#sk-container-id-1 div.sk-item {position: relative;z-index: 1;}#sk-container-id-1 div.sk-parallel {display: flex;align-items: stretch;justify-content: center;background-color: white;position: relative;}#sk-container-id-1 div.sk-item::before, #sk-container-id-1 div.sk-parallel-item::before {content: \"\";position: absolute;border-left: 1px solid gray;box-sizing: border-box;top: 0;bottom: 0;left: 50%;z-index: -1;}#sk-container-id-1 div.sk-parallel-item {display: flex;flex-direction: column;z-index: 1;position: relative;background-color: white;}#sk-container-id-1 div.sk-parallel-item:first-child::after {align-self: flex-end;width: 50%;}#sk-container-id-1 div.sk-parallel-item:last-child::after {align-self: flex-start;width: 50%;}#sk-container-id-1 div.sk-parallel-item:only-child::after {width: 0;}#sk-container-id-1 div.sk-dashed-wrapped {border: 1px dashed gray;margin: 0 0.4em 0.5em 0.4em;box-sizing: border-box;padding-bottom: 0.4em;background-color: white;}#sk-container-id-1 div.sk-label label {font-family: monospace;font-weight: bold;display: inline-block;line-height: 1.2em;}#sk-container-id-1 div.sk-label-container {text-align: center;}#sk-container-id-1 div.sk-container {/* jupyter's `normalize.less` sets `[hidden] { display: none; }` but bootstrap.min.css set `[hidden] { display: none !important; }` so we also need the `!important` here to be able to override the default hidden behavior on the sphinx rendered scikit-learn.org. See: https://github.com/scikit-learn/scikit-learn/issues/21755 */display: inline-block !important;position: relative;}#sk-container-id-1 div.sk-text-repr-fallback {display: none;}</style><div id=\"sk-container-id-1\" class=\"sk-top-container\"><div class=\"sk-text-repr-fallback\"><pre>SequentialFeatureSelector(estimator=KNeighborsClassifier(), forward=False,\n",
              "                          k_features=(6, 6), scoring=&#x27;accuracy&#x27;)</pre><b>In a Jupyter environment, please rerun this cell to show the HTML representation or trust the notebook. <br />On GitHub, the HTML representation is unable to render, please try loading this page with nbviewer.org.</b></div><div class=\"sk-container\" hidden><div class=\"sk-item sk-dashed-wrapped\"><div class=\"sk-label-container\"><div class=\"sk-label sk-toggleable\"><input class=\"sk-toggleable__control sk-hidden--visually\" id=\"sk-estimator-id-1\" type=\"checkbox\" ><label for=\"sk-estimator-id-1\" class=\"sk-toggleable__label sk-toggleable__label-arrow\">SequentialFeatureSelector</label><div class=\"sk-toggleable__content\"><pre>SequentialFeatureSelector(estimator=KNeighborsClassifier(), forward=False,\n",
              "                          k_features=(6, 6), scoring=&#x27;accuracy&#x27;)</pre></div></div></div><div class=\"sk-parallel\"><div class=\"sk-parallel-item\"><div class=\"sk-item\"><div class=\"sk-label-container\"><div class=\"sk-label sk-toggleable\"><input class=\"sk-toggleable__control sk-hidden--visually\" id=\"sk-estimator-id-2\" type=\"checkbox\" ><label for=\"sk-estimator-id-2\" class=\"sk-toggleable__label sk-toggleable__label-arrow\">estimator: KNeighborsClassifier</label><div class=\"sk-toggleable__content\"><pre>KNeighborsClassifier()</pre></div></div></div><div class=\"sk-serial\"><div class=\"sk-item\"><div class=\"sk-estimator sk-toggleable\"><input class=\"sk-toggleable__control sk-hidden--visually\" id=\"sk-estimator-id-3\" type=\"checkbox\" ><label for=\"sk-estimator-id-3\" class=\"sk-toggleable__label sk-toggleable__label-arrow\">KNeighborsClassifier</label><div class=\"sk-toggleable__content\"><pre>KNeighborsClassifier()</pre></div></div></div></div></div></div></div></div></div></div>"
            ]
          },
          "metadata": {},
          "execution_count": 17
        }
      ]
    },
    {
      "cell_type": "markdown",
      "source": [
        "![](https://github.com/Martinerramuspe/PICTURE/blob/main/calculator.png?raw=true)"
      ],
      "metadata": {
        "id": "-1K9bLW1Lp6n"
      }
    },
    {
      "cell_type": "code",
      "source": [
        "sfs.k_feature_names_"
      ],
      "metadata": {
        "colab": {
          "base_uri": "https://localhost:8080/"
        },
        "id": "U1L5wxhz6QtO",
        "outputId": "73a0c561-e0d3-470b-9b13-04e8befe8102"
      },
      "execution_count": null,
      "outputs": [
        {
          "output_type": "execute_result",
          "data": {
            "text/plain": [
              "('age', 'Medu', 'famrel', 'freetime', 'Dalc', 'famsup_yes')"
            ]
          },
          "metadata": {},
          "execution_count": 19
        }
      ]
    },
    {
      "cell_type": "code",
      "source": [
        "X_train_1 = X_train[['age', 'Medu', 'famrel', 'freetime', 'Dalc', 'famsup_yes']]"
      ],
      "metadata": {
        "id": "ZdtPYiIz7GxX"
      },
      "execution_count": null,
      "outputs": []
    },
    {
      "cell_type": "code",
      "source": [
        "modelo3 = KNeighborsClassifier() # Dejamos el k=5, preestablecido por el metodo.\n",
        "modelo3.fit(X_train_1,y_train)\n",
        "y_pred=modelo3.predict(X_train_1)\n",
        "accuracy_score(y_train, y_pred)"
      ],
      "metadata": {
        "colab": {
          "base_uri": "https://localhost:8080/"
        },
        "id": "FgSjQM82_7jb",
        "outputId": "6177b518-9d2c-4dc4-e247-66eedcf39621"
      },
      "execution_count": null,
      "outputs": [
        {
          "output_type": "execute_result",
          "data": {
            "text/plain": [
              "0.7432432432432432"
            ]
          },
          "metadata": {},
          "execution_count": 22
        }
      ]
    },
    {
      "cell_type": "code",
      "source": [
        "m2=KNeighborsClassifier()\n",
        "cross_val_score(m2,X_train_1,y_train,cv=5).mean()"
      ],
      "metadata": {
        "colab": {
          "base_uri": "https://localhost:8080/"
        },
        "id": "GcSwArk8AXw3",
        "outputId": "f1a835f2-665a-49d2-ac04-745689a65b29"
      },
      "execution_count": null,
      "outputs": [
        {
          "output_type": "execute_result",
          "data": {
            "text/plain": [
              "0.6688700564971752"
            ]
          },
          "metadata": {},
          "execution_count": 23
        }
      ]
    },
    {
      "cell_type": "code",
      "source": [
        "X_test_1= X_test[['age', 'Medu', 'famrel', 'freetime', 'Dalc', 'famsup_yes']]"
      ],
      "metadata": {
        "id": "6jvDAbTQEURv"
      },
      "execution_count": null,
      "outputs": []
    },
    {
      "cell_type": "code",
      "source": [
        "y_pred=modelo3.predict(X_test_1)\n",
        "accuracy_score(y_test, y_pred)"
      ],
      "metadata": {
        "id": "DdeajEuRGUnG",
        "colab": {
          "base_uri": "https://localhost:8080/"
        },
        "outputId": "074e3726-f772-496e-aa1e-26950a3f1b46"
      },
      "execution_count": null,
      "outputs": [
        {
          "output_type": "execute_result",
          "data": {
            "text/plain": [
              "0.5858585858585859"
            ]
          },
          "metadata": {},
          "execution_count": 29
        }
      ]
    },
    {
      "cell_type": "markdown",
      "source": [
        "# CONCLUSION\n",
        "Viendo los resultados anteriores, podemos determinar los diferenciales:\n",
        "* Todas las variables --> Train:0,76  -  Test:0,65  =   0.11\n",
        "* 6 variables-----------------> Train:0,74  -  Test:0,58  =   0.16\n",
        "\n",
        "No hay grandes cambios en el resultado, considerando  que uno  trabaja con 21 variables, por lo que si tenemos que elegir uno, nos quedamos con de 6 variables, ya que el consumo de recursos seria muy bajo, relativamente."
      ],
      "metadata": {
        "id": "Os8Eshh5ECAK"
      }
    },
    {
      "cell_type": "code",
      "source": [],
      "metadata": {
        "id": "_T0cuZo_LqhX"
      },
      "execution_count": null,
      "outputs": []
    }
  ]
}