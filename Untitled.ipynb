{
 "cells": [
  {
   "cell_type": "code",
   "execution_count": 1,
   "id": "0f7af769-4b79-468d-bef2-0d4345408f2f",
   "metadata": {},
   "outputs": [
    {
     "name": "stdout",
     "output_type": "stream",
     "text": [
      "Requirement already satisfied: geopandas in c:\\users\\erram\\anaconda3\\lib\\site-packages (0.13.2)\n",
      "Requirement already satisfied: pandas>=1.1.0 in c:\\users\\erram\\anaconda3\\lib\\site-packages (from geopandas) (1.4.4)\n",
      "Requirement already satisfied: fiona>=1.8.19 in c:\\users\\erram\\anaconda3\\lib\\site-packages (from geopandas) (1.9.4.post1)\n",
      "Requirement already satisfied: shapely>=1.7.1 in c:\\users\\erram\\anaconda3\\lib\\site-packages (from geopandas) (2.0.1)\n",
      "Requirement already satisfied: pyproj>=3.0.1 in c:\\users\\erram\\anaconda3\\lib\\site-packages (from geopandas) (3.6.0)\n",
      "Requirement already satisfied: packaging in c:\\users\\erram\\anaconda3\\lib\\site-packages (from geopandas) (21.3)\n",
      "Requirement already satisfied: certifi in c:\\users\\erram\\anaconda3\\lib\\site-packages (from fiona>=1.8.19->geopandas) (2022.9.14)\n",
      "Requirement already satisfied: click-plugins>=1.0 in c:\\users\\erram\\anaconda3\\lib\\site-packages (from fiona>=1.8.19->geopandas) (1.1.1)\n",
      "Requirement already satisfied: six in c:\\users\\erram\\anaconda3\\lib\\site-packages (from fiona>=1.8.19->geopandas) (1.16.0)\n",
      "Requirement already satisfied: cligj>=0.5 in c:\\users\\erram\\anaconda3\\lib\\site-packages (from fiona>=1.8.19->geopandas) (0.7.2)\n",
      "Requirement already satisfied: click~=8.0 in c:\\users\\erram\\anaconda3\\lib\\site-packages (from fiona>=1.8.19->geopandas) (8.0.4)\n",
      "Requirement already satisfied: importlib-metadata in c:\\users\\erram\\anaconda3\\lib\\site-packages (from fiona>=1.8.19->geopandas) (4.11.3)\n",
      "Requirement already satisfied: attrs>=19.2.0 in c:\\users\\erram\\anaconda3\\lib\\site-packages (from fiona>=1.8.19->geopandas) (21.4.0)\n",
      "Requirement already satisfied: pytz>=2020.1 in c:\\users\\erram\\anaconda3\\lib\\site-packages (from pandas>=1.1.0->geopandas) (2022.1)\n",
      "Requirement already satisfied: numpy>=1.18.5 in c:\\users\\erram\\anaconda3\\lib\\site-packages (from pandas>=1.1.0->geopandas) (1.21.5)\n",
      "Requirement already satisfied: python-dateutil>=2.8.1 in c:\\users\\erram\\anaconda3\\lib\\site-packages (from pandas>=1.1.0->geopandas) (2.8.2)\n",
      "Requirement already satisfied: pyparsing!=3.0.5,>=2.0.2 in c:\\users\\erram\\anaconda3\\lib\\site-packages (from packaging->geopandas) (3.0.9)\n",
      "Requirement already satisfied: colorama in c:\\users\\erram\\anaconda3\\lib\\site-packages (from click~=8.0->fiona>=1.8.19->geopandas) (0.4.5)\n",
      "Requirement already satisfied: zipp>=0.5 in c:\\users\\erram\\anaconda3\\lib\\site-packages (from importlib-metadata->fiona>=1.8.19->geopandas) (3.8.0)\n",
      "Note: you may need to restart the kernel to use updated packages.\n"
     ]
    }
   ],
   "source": [
    "pip install geopandas"
   ]
  },
  {
   "cell_type": "code",
   "execution_count": 2,
   "id": "3d692c76-7137-45b3-8a86-3e37148883fb",
   "metadata": {},
   "outputs": [
    {
     "ename": "SyntaxError",
     "evalue": "invalid syntax (4274828355.py, line 1)",
     "output_type": "error",
     "traceback": [
      "\u001b[1;36m  File \u001b[1;32m\"C:\\Users\\erram\\AppData\\Local\\Temp\\ipykernel_42996\\4274828355.py\"\u001b[1;36m, line \u001b[1;32m1\u001b[0m\n\u001b[1;33m    pip install numpy\u001b[0m\n\u001b[1;37m        ^\u001b[0m\n\u001b[1;31mSyntaxError\u001b[0m\u001b[1;31m:\u001b[0m invalid syntax\n"
     ]
    }
   ],
   "source": [
    "pip install numpy\n",
    "pip install pandas\n",
    "pip install shapely\n",
    "pip install fiona"
   ]
  },
  {
   "cell_type": "code",
   "execution_count": null,
   "id": "1c08862d-e9bf-48bb-bb5c-7e380fbe856a",
   "metadata": {},
   "outputs": [],
   "source": []
  }
 ],
 "metadata": {
  "kernelspec": {
   "display_name": "Python 3 (ipykernel)",
   "language": "python",
   "name": "python3"
  },
  "language_info": {
   "codemirror_mode": {
    "name": "ipython",
    "version": 3
   },
   "file_extension": ".py",
   "mimetype": "text/x-python",
   "name": "python",
   "nbconvert_exporter": "python",
   "pygments_lexer": "ipython3",
   "version": "3.9.13"
  }
 },
 "nbformat": 4,
 "nbformat_minor": 5
}
