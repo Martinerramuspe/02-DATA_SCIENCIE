{
  "nbformat": 4,
  "nbformat_minor": 0,
  "metadata": {
    "colab": {
      "provenance": [],
      "collapsed_sections": [
        "biIuCl9D1Eds"
      ],
      "authorship_tag": "ABX9TyOwAx/nbM0pgfuHmi7+oE2A",
      "include_colab_link": true
    },
    "kernelspec": {
      "name": "python3",
      "display_name": "Python 3"
    },
    "language_info": {
      "name": "python"
    }
  },
  "cells": [
    {
      "cell_type": "markdown",
      "metadata": {
        "id": "view-in-github",
        "colab_type": "text"
      },
      "source": [
        "<a href=\"https://colab.research.google.com/github/Martinerramuspe/02-DATA_SCIENCIE/blob/main/00-CODER_HOUSE/07-ENTREGABLE/API_PUBLICA%20.ipynb\" target=\"_parent\"><img src=\"https://colab.research.google.com/assets/colab-badge.svg\" alt=\"Open In Colab\"/></a>"
      ]
    },
    {
      "cell_type": "markdown",
      "source": [
        "# API WIKIPEDIA\n",
        "Mediantes la utilizacion de palabras claves, extraemos resumenes sobre el mismo. Si es que se encuentra en su base de datos."
      ],
      "metadata": {
        "id": "biIuCl9D1Eds"
      }
    },
    {
      "cell_type": "code",
      "source": [
        "!pip install wikipedia-api"
      ],
      "metadata": {
        "colab": {
          "base_uri": "https://localhost:8080/"
        },
        "id": "k-VqTLmSwKAP",
        "outputId": "bd0ae08a-54a4-4241-9ed9-0ae8d822a522"
      },
      "execution_count": null,
      "outputs": [
        {
          "output_type": "stream",
          "name": "stdout",
          "text": [
            "Collecting wikipedia-api\n",
            "  Downloading Wikipedia_API-0.6.0-py3-none-any.whl (14 kB)\n",
            "Requirement already satisfied: requests in /usr/local/lib/python3.10/dist-packages (from wikipedia-api) (2.31.0)\n",
            "Requirement already satisfied: charset-normalizer<4,>=2 in /usr/local/lib/python3.10/dist-packages (from requests->wikipedia-api) (3.3.2)\n",
            "Requirement already satisfied: idna<4,>=2.5 in /usr/local/lib/python3.10/dist-packages (from requests->wikipedia-api) (3.4)\n",
            "Requirement already satisfied: urllib3<3,>=1.21.1 in /usr/local/lib/python3.10/dist-packages (from requests->wikipedia-api) (2.0.7)\n",
            "Requirement already satisfied: certifi>=2017.4.17 in /usr/local/lib/python3.10/dist-packages (from requests->wikipedia-api) (2023.7.22)\n",
            "Installing collected packages: wikipedia-api\n",
            "Successfully installed wikipedia-api-0.6.0\n"
          ]
        }
      ]
    },
    {
      "cell_type": "code",
      "source": [
        "import wikipediaapi"
      ],
      "metadata": {
        "id": "6w9gmOmuv2ev"
      },
      "execution_count": null,
      "outputs": []
    },
    {
      "cell_type": "code",
      "source": [
        "wikipediaapi.__version__"
      ],
      "metadata": {
        "colab": {
          "base_uri": "https://localhost:8080/"
        },
        "id": "qG-FmRcAwSZJ",
        "outputId": "eaaf9520-de59-4f0e-c738-d924b2f344db"
      },
      "execution_count": null,
      "outputs": [
        {
          "output_type": "execute_result",
          "data": {
            "text/plain": [
              "(0, 6, 0)"
            ]
          },
          "metadata": {},
          "execution_count": 7
        }
      ]
    },
    {
      "cell_type": "code",
      "source": [
        "import wikipediaapi\n",
        "\n",
        "# IDIOMA\n",
        "IDIOMA = 'es'\n",
        "# CONDICIONES SOLICITADAS POR WIKIPEDIA PARA USAR SU API:\n",
        "AGENTE_USUARIO = 'Consulta Wikipedia (erramuspe14@gmail.com)'\n",
        "headers = {'User-Agent': AGENTE_USUARIO}\n",
        "\n",
        "# Crea la instancia de Wikipedia con los encabezados\n",
        "wiki_wiki = wikipediaapi.Wikipedia(IDIOMA, headers=headers)\n",
        "\n",
        "# PALABRA CLAVE A CONSUTLTAR\n",
        "PALABRA_CLAVE = 'Javier_Milei'\n",
        "\n",
        "# CONSULTA\n",
        "consulta = wiki_wiki.page(PALABRA_CLAVE)\n",
        "\n",
        "# OBERVAMOS EL TIPO DE OBJETO\n",
        "type(consulta)\n"
      ],
      "metadata": {
        "colab": {
          "base_uri": "https://localhost:8080/"
        },
        "id": "QPvdcudByxMZ",
        "outputId": "eb907c29-377c-4687-8473-d3a906299b78"
      },
      "execution_count": null,
      "outputs": [
        {
          "output_type": "execute_result",
          "data": {
            "text/plain": [
              "wikipediaapi.WikipediaPage"
            ]
          },
          "metadata": {},
          "execution_count": 17
        }
      ]
    },
    {
      "cell_type": "code",
      "source": [
        "print(consulta.title)"
      ],
      "metadata": {
        "colab": {
          "base_uri": "https://localhost:8080/"
        },
        "id": "lxM0peQUy94N",
        "outputId": "55ef0537-302a-4e81-95cd-ce7654a68abe"
      },
      "execution_count": null,
      "outputs": [
        {
          "output_type": "stream",
          "name": "stdout",
          "text": [
            "Javier_Milei\n"
          ]
        }
      ]
    },
    {
      "cell_type": "code",
      "source": [
        "# COMANDO PARA EXTRER RESUMEN\n",
        "print(consulta.summary)"
      ],
      "metadata": {
        "colab": {
          "base_uri": "https://localhost:8080/"
        },
        "id": "uu3mm9tf0pHQ",
        "outputId": "4550c335-cbff-4ad6-f4d4-19fa40c4d03a"
      },
      "execution_count": null,
      "outputs": [
        {
          "output_type": "stream",
          "name": "stdout",
          "text": [
            "Javier Gerardo Milei (born 22 October 1970) is an Argentine politician, economist, and author who is the president-elect of Argentina. Before entering politics, Milei gained notability as an economist, as the author of multiple books on economics and politics, and for his distinct political philosophy.\n",
            "As an economist, Milei is a vocal proponent of the Austrian School. He has critiqued the fiscal policies of various Argentine administrations and advocates for reduced government spending. As a university professor, he taught courses in macroeconomics, economic growth, microeconomics, and mathematics for economists. Milei also authored numerous books and hosted radio programs. In 2021, Milei was elected to the Chamber of Deputies, representing the City of Buenos Aires for La Libertad Avanza. As a national deputy, he limited his legislative activities to voting, focusing instead on critiquing what he describes as Argentina's political elite and its propensity for high government spending. Milei has pledged not to raise taxes and has donated his national deputy salary through a monthly raffle. He defeated economy minister Sergio Massa in the second round of the 2023 presidential election on a platform that accused the ideological dominance of Peronism in the country as being behind the ongoing Argentine economic crisis.Milei is known for his flamboyant personality, distinctive personal style, and strong media presence. He has been described politically as a right-wing libertarian, populist, and supporter of laissez-faire capitalism, aligning specifically with minarchist and anarcho-capitalist principles. His views distinguish him in the Argentine political landscape and have garnered significant public attention and polarizing reactions. He has proposed a comprehensive overhaul of the country's fiscal and structural policies. Milei supports freedom of choice on drug policy, guns, prostitution, same-sex marriage, sexual preference, and gender identity, while opposing abortion and euthanasia. In foreign policy, he advocates for closer relations with the United States, supporting Ukraine in response to Russia's invasion, while distancing Argentina from geopolitical entanglement with China.\n"
          ]
        }
      ]
    }
  ]
}